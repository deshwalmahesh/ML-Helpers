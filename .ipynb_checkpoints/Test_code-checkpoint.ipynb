{
 "cells": [
  {
   "cell_type": "markdown",
   "metadata": {},
   "source": [
    "https://towardsdatascience.com/verifying-the-assumptions-of-linear-regression-in-python-and-r-f4cd2907d4c0\n",
    "\n",
    "\n",
    "https://machinelearningmastery.com/a-gentle-introduction-to-normality-tests-in-python/\n",
    "\n",
    "\n",
    "https://towardsdatascience.com/methods-for-normality-test-with-application-in-python-bb91b49ed0f5\n",
    "\n",
    "\n",
    "https://www.analyticsvidhya.com/blog/2016/07/deeper-regression-analysis-assumptions-plots-solutions/\n",
    "\n",
    "\n",
    "https://www.statology.org/assumptions-of-logistic-regression/"
   ]
  },
  {
   "cell_type": "code",
   "execution_count": 169,
   "metadata": {},
   "outputs": [],
   "source": [
    "from EDA import *\n",
    "import pandas as pd\n",
    "import numpy as np\n",
    "from sklearn import datasets\n",
    "\n",
    "from scipy.stats import skew, kurtosis, shapiro,norm, anderson, normaltest, pearsonr, jarque_bera, kstest\n",
    "# import statsmodels.stats.api as sms\n",
    "from statsmodels.stats.outliers_influence import variance_inflation_factor\n",
    "import statsmodels.api as sm\n",
    "\n",
    "import gooey\n",
    "import dataframe_image as dfi"
   ]
  },
  {
   "cell_type": "code",
   "execution_count": 170,
   "metadata": {},
   "outputs": [],
   "source": [
    "iris_X, iris_y = datasets.load_iris(return_X_y=True)\n",
    "classif = pd.DataFrame(iris_X)\n",
    "classif['class'] = iris_y\n",
    "\n",
    "\n",
    "diabetes_X, diabetes_y = datasets.load_diabetes(return_X_y=True)\n",
    "reg = pd.DataFrame(diabetes_X)\n",
    "reg['label'] = diabetes_y\n",
    "\n",
    "\n",
    "X, y = datasets.load_boston(return_X_y=True)\n",
    "bost = pd.DataFrame(X)\n",
    "bost['label'] = y"
   ]
  },
  {
   "cell_type": "markdown",
   "metadata": {},
   "source": [
    "# ----------------------------------------------------------------------------"
   ]
  },
  {
   "cell_type": "code",
   "execution_count": 147,
   "metadata": {},
   "outputs": [],
   "source": [
    "def normality_test(data:[np.ndarray])->dict:\n",
    "    '''\n",
    "    Test whether the given array of data is Normal Gaussian distribution or not \n",
    "    If Data Is Gaussian: Use Parametric Statistical Methods | Else: Use Nonparametric Statistical Methods\n",
    "    '''\n",
    "    names = ['Shapiro-Wilk', \"Ralph D'Agostino\", \"Jarque-Bera\", \"Kolmogorov-Smirnov\", \"Anderson-Darling\"]\n",
    "    tests = [shapiro, normaltest, jarque_bera, kstest, anderson]\n",
    "    \n",
    "    \n",
    "    result = ''\n",
    "    for i, test in enumerate(tests): # Kolmogorov test takes 1 extra arg\n",
    "        alpha = 0.05 # because we are replacing value of  alpha in Anderson-Darling test\n",
    "        \n",
    "        if i == 3:\n",
    "            stat, p = test(data,'norm') \n",
    "            \n",
    "        elif i == 4: # It gives Different values for each Confidence\n",
    "            test_result = test(data)\n",
    "            alpha, p = test_result.statistic, test_result.critical_values[2]\n",
    "            \n",
    "        else:\n",
    "            stat, p = test(data)\n",
    "            \n",
    "        if p <= alpha: # Write only failed tests\n",
    "            result += f\"{names[i]} , \"\n",
    "\n",
    "    \n",
    "    if len(result):\n",
    "        return \"Not normal according to following tests with 95% significance: \"+ result\n"
   ]
  },
  {
   "cell_type": "code",
   "execution_count": 148,
   "metadata": {},
   "outputs": [],
   "source": [
    "def multi_colinearity_test(df:pd.DataFrame, label_col:str, corr_thresh:float=0.9, vif_thresh:int=5)->str:\n",
    "    '''\n",
    "    Find Multi Co-linearity among variables. Drop the variables which are co linear as it'll create a bias\n",
    "    args:\n",
    "        df: Whole Pandas DataFrame\n",
    "        label_col: Column name which contains the values we are trying to predict\n",
    "        corr_thresh: Threshold for correlation. Values exceeding this value are cause colinearity with others\n",
    "        vif_thresh: Variance Inflation Factor threshold\n",
    "    '''\n",
    "    X = df.drop([label_col],axis=1)\n",
    "    col_names = X.columns\n",
    "    \n",
    "    cor_matrix = df.drop([label_col],axis=1).corr()\n",
    "    upper_tri = cor_matrix.where(np.triu(np.ones(cor_matrix.shape),k=1).astype(np.bool)).abs()\n",
    "    corr_res = [column for column in upper_tri.columns if any(upper_tri[column] > corr_thresh)]\n",
    "    \n",
    "    X_constant = sm.add_constant(X)\n",
    "    vif = [variance_inflation_factor(X_constant.values, i) for i in range(X_constant.shape[1])][1:]\n",
    "    v = pd.DataFrame({'vif': vif},index=col_names)\n",
    "    vif_res = v[v['vif'] > vif_thresh].index.tolist()\n",
    "    \n",
    "    if len(vif_res) or len(corr_res):\n",
    "        return f\"These features are found to be causing Multi-Colinearity: Pearson Correlation with threshold {corr_thresh}: {corr_res} | Variance Inflation Factor with threshold {vif_thresh}: {vif_res}\""
   ]
  },
  {
   "cell_type": "code",
   "execution_count": 151,
   "metadata": {},
   "outputs": [
    {
     "data": {
      "text/plain": [
       "\"Not normal according to following tests with 95% significance: Shapiro-Wilk , Ralph D'Agostino , Jarque-Bera , Kolmogorov-Smirnov , Anderson-Darling , \""
      ]
     },
     "execution_count": 151,
     "metadata": {},
     "output_type": "execute_result"
    }
   ],
   "source": [
    "normality_test(bost[2])"
   ]
  },
  {
   "cell_type": "code",
   "execution_count": 150,
   "metadata": {},
   "outputs": [
    {
     "data": {
      "text/plain": [
       "'These features are found to be causing Multi-Colinearity: Pearson Correlation with threshold 0.9: [9] | Variance Inflation Factor with threshold 5: [8, 9]'"
      ]
     },
     "execution_count": 150,
     "metadata": {},
     "output_type": "execute_result"
    }
   ],
   "source": [
    "multi_colinearity_test(bost,'label')"
   ]
  },
  {
   "cell_type": "code",
   "execution_count": null,
   "metadata": {},
   "outputs": [],
   "source": []
  },
  {
   "cell_type": "code",
   "execution_count": null,
   "metadata": {},
   "outputs": [],
   "source": []
  },
  {
   "cell_type": "code",
   "execution_count": null,
   "metadata": {},
   "outputs": [],
   "source": []
  }
 ],
 "metadata": {
  "kernelspec": {
   "display_name": "Python 3",
   "language": "python",
   "name": "python3"
  },
  "language_info": {
   "codemirror_mode": {
    "name": "ipython",
    "version": 3
   },
   "file_extension": ".py",
   "mimetype": "text/x-python",
   "name": "python",
   "nbconvert_exporter": "python",
   "pygments_lexer": "ipython3",
   "version": "3.6.13"
  }
 },
 "nbformat": 4,
 "nbformat_minor": 4
}
